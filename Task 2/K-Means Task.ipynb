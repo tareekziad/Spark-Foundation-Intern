{
 "cells": [
  {
   "cell_type": "markdown",
   "id": "9521ef30",
   "metadata": {},
   "source": [
    "### Import Helper Libraries "
   ]
  },
  {
   "cell_type": "code",
   "execution_count": 58,
   "id": "99b4d411",
   "metadata": {},
   "outputs": [],
   "source": [
    "import pandas as pd \n",
    "import numpy as np \n",
    "import matplotlib.pyplot as plt \n",
    "import seaborn as sns \n",
    "import warnings\n",
    "from sklearn.cluster import KMeans"
   ]
  },
  {
   "cell_type": "code",
   "execution_count": 59,
   "id": "cf0bbce5",
   "metadata": {},
   "outputs": [],
   "source": [
    "warnings.filterwarnings('ignore')"
   ]
  },
  {
   "cell_type": "code",
   "execution_count": 60,
   "id": "1b2d5545",
   "metadata": {},
   "outputs": [],
   "source": [
    "sns.set_theme(context = 'paper' , style = 'whitegrid' , palette = 'Set1' , \n",
    "             rc = {'figure.figsize' : (8 , 4)})"
   ]
  },
  {
   "cell_type": "code",
   "execution_count": 61,
   "id": "2006aa65",
   "metadata": {},
   "outputs": [],
   "source": [
    "%matplotlib inline "
   ]
  },
  {
   "cell_type": "code",
   "execution_count": 62,
   "id": "9eec07c5",
   "metadata": {},
   "outputs": [],
   "source": [
    "df = pd.read_csv('Iris.csv')"
   ]
  },
  {
   "cell_type": "markdown",
   "id": "dd99b697",
   "metadata": {},
   "source": [
    "### Drop ID & Target (this is unsupervised Problem (Clustring))"
   ]
  },
  {
   "cell_type": "code",
   "execution_count": 63,
   "id": "2172d81a",
   "metadata": {},
   "outputs": [],
   "source": [
    "df.drop(['Species' , 'Id'] , inplace = True , axis = 1)"
   ]
  },
  {
   "cell_type": "markdown",
   "id": "f0abbbc6",
   "metadata": {},
   "source": [
    "### Check data info for missing records and show feature data types "
   ]
  },
  {
   "cell_type": "code",
   "execution_count": 64,
   "id": "ff8f032a",
   "metadata": {},
   "outputs": [
    {
     "name": "stdout",
     "output_type": "stream",
     "text": [
      "<class 'pandas.core.frame.DataFrame'>\n",
      "RangeIndex: 150 entries, 0 to 149\n",
      "Data columns (total 4 columns):\n",
      " #   Column         Non-Null Count  Dtype  \n",
      "---  ------         --------------  -----  \n",
      " 0   SepalLengthCm  150 non-null    float64\n",
      " 1   SepalWidthCm   150 non-null    float64\n",
      " 2   PetalLengthCm  150 non-null    float64\n",
      " 3   PetalWidthCm   150 non-null    float64\n",
      "dtypes: float64(4)\n",
      "memory usage: 4.8 KB\n"
     ]
    }
   ],
   "source": [
    "df.info()"
   ]
  },
  {
   "cell_type": "markdown",
   "id": "3fdfbaef",
   "metadata": {},
   "source": [
    "### No null values "
   ]
  },
  {
   "cell_type": "code",
   "execution_count": 65,
   "id": "ec1def9e",
   "metadata": {},
   "outputs": [
    {
     "data": {
      "text/plain": [
       "SepalLengthCm    0.0\n",
       "SepalWidthCm     0.0\n",
       "PetalLengthCm    0.0\n",
       "PetalWidthCm     0.0\n",
       "dtype: float64"
      ]
     },
     "execution_count": 65,
     "metadata": {},
     "output_type": "execute_result"
    }
   ],
   "source": [
    "df.isnull().mean()*100"
   ]
  },
  {
   "cell_type": "markdown",
   "id": "1e24988f",
   "metadata": {},
   "source": [
    "### There are 3 duplicated records \n",
    "* Drop them "
   ]
  },
  {
   "cell_type": "code",
   "execution_count": 66,
   "id": "14a460bf",
   "metadata": {
    "scrolled": true
   },
   "outputs": [
    {
     "data": {
      "text/plain": [
       "3"
      ]
     },
     "execution_count": 66,
     "metadata": {},
     "output_type": "execute_result"
    }
   ],
   "source": [
    "df.duplicated().sum()"
   ]
  },
  {
   "cell_type": "code",
   "execution_count": 67,
   "id": "4c36ac4f",
   "metadata": {},
   "outputs": [],
   "source": [
    "df.drop_duplicates(inplace = True , ignore_index = True)"
   ]
  },
  {
   "cell_type": "code",
   "execution_count": 68,
   "id": "5bec9aca",
   "metadata": {},
   "outputs": [
    {
     "data": {
      "text/plain": [
       "<AxesSubplot:xlabel='SepalLengthCm', ylabel='PetalLengthCm'>"
      ]
     },
     "execution_count": 68,
     "metadata": {},
     "output_type": "execute_result"
    },
    {
     "data": {
      "image/png": "[encoded data removed]",
      "text/plain": [
       "<Figure size 432x288 with 1 Axes>"
      ]
     },
     "metadata": {
      "needs_background": "light"
     },
     "output_type": "display_data"
    }
   ],
   "source": [
    "sns.scatterplot(data = df , x = df['SepalLengthCm'] , y = df['PetalLengthCm'])"
   ]
  },
  {
   "cell_type": "markdown",
   "id": "b9d4b259",
   "metadata": {},
   "source": [
    "### Show correlation between features "
   ]
  },
  {
   "cell_type": "code",
   "execution_count": 69,
   "id": "c9dca336",
   "metadata": {
    "scrolled": true
   },
   "outputs": [
    {
     "data": {
      "text/plain": [
       "<AxesSubplot:>"
      ]
     },
     "execution_count": 69,
     "metadata": {},
     "output_type": "execute_result"
    },
    {
     "data": {
      "image/png": "[encoded data removed]",
      "text/plain": [
       "<Figure size 432x288 with 2 Axes>"
      ]
     },
     "metadata": {
      "needs_background": "light"
     },
     "output_type": "display_data"
    }
   ],
   "source": [
    "sns.heatmap(df.corr() , annot = True)"
   ]
  },
  {
   "cell_type": "code",
   "execution_count": 70,
   "id": "7c478279",
   "metadata": {},
   "outputs": [],
   "source": [
    "wcss = []"
   ]
  },
  {
   "cell_type": "markdown",
   "id": "ffcd993c",
   "metadata": {},
   "source": [
    "### Try K-Means with different number of clusters "
   ]
  },
  {
   "cell_type": "code",
   "execution_count": 71,
   "id": "44562863",
   "metadata": {},
   "outputs": [],
   "source": [
    "for i in range(1, 11):\n",
    "    kmeans = KMeans(n_clusters = i, init = 'k-means++', \n",
    "                    max_iter = 300, n_init = 10, random_state = 0)\n",
    "    kmeans.fit(df.values)\n",
    "    wcss.append(kmeans.inertia_)"
   ]
  },
  {
   "cell_type": "code",
   "execution_count": 72,
   "id": "059f2ae5",
   "metadata": {},
   "outputs": [
    {
     "data": {
      "text/plain": [
       "<AxesSubplot:>"
      ]
     },
     "execution_count": 72,
     "metadata": {},
     "output_type": "execute_result"
    },
    {
     "data": {
      "image/png": "[encoded data removed]",
      "text/plain": [
       "<Figure size 432x288 with 1 Axes>"
      ]
     },
     "metadata": {
      "needs_background": "light"
     },
     "output_type": "display_data"
    }
   ],
   "source": [
    "sns.lineplot(x = range(1 , 11) , y = wcss)"
   ]
  },
  {
   "cell_type": "markdown",
   "id": "309fc6b4",
   "metadata": {},
   "source": [
    "### Apply K-Means with 3 clusters "
   ]
  },
  {
   "cell_type": "code",
   "execution_count": 73,
   "id": "eb483794",
   "metadata": {},
   "outputs": [],
   "source": [
    "kmeans = KMeans(n_clusters = 3, init = 'k-means++',\n",
    "                max_iter = 300, n_init = 10, random_state = 0)"
   ]
  },
  {
   "cell_type": "code",
   "execution_count": 74,
   "id": "77af0e3f",
   "metadata": {},
   "outputs": [],
   "source": [
    "y_kmeans = kmeans.fit_predict(df.values)"
   ]
  },
  {
   "cell_type": "markdown",
   "id": "0d9c3f94",
   "metadata": {},
   "source": [
    "### Show our cluster "
   ]
  },
  {
   "cell_type": "code",
   "execution_count": 75,
   "id": "cb3aaf52",
   "metadata": {},
   "outputs": [
    {
     "data": {
      "text/plain": [
       "<AxesSubplot:>"
      ]
     },
     "execution_count": 75,
     "metadata": {},
     "output_type": "execute_result"
    },
    {
     "data": {
      "image/png": "[encoded data removed]",
      "text/plain": [
       "<Figure size 432x288 with 1 Axes>"
      ]
     },
     "metadata": {
      "needs_background": "light"
     },
     "output_type": "display_data"
    }
   ],
   "source": [
    "sns.scatterplot(df.values[y_kmeans == 0, 0], df.values[y_kmeans == 0, 1],markers = '-')\n",
    "sns.scatterplot(df.values[y_kmeans == 1, 0], df.values[y_kmeans == 1, 1])\n",
    "sns.scatterplot(df.values[y_kmeans == 2, 0], df.values[y_kmeans == 2, 1])\n",
    "sns.scatterplot(kmeans.cluster_centers_[:, 0], kmeans.cluster_centers_[:,1])"
   ]
  },
  {
   "cell_type": "code",
   "execution_count": null,
   "id": "b454a4a7",
   "metadata": {},
   "outputs": [],
   "source": []
  }
 ],
 "metadata": {
  "kernelspec": {
   "display_name": "Python 3 (ipykernel)",
   "language": "python",
   "name": "python3"
  },
  "language_info": {
   "codemirror_mode": {
    "name": "ipython",
    "version": 3
   },
   "file_extension": ".py",
   "mimetype": "text/x-python",
   "name": "python",
   "nbconvert_exporter": "python",
   "pygments_lexer": "ipython3",
   "version": "3.10.4"
  }
 },
 "nbformat": 4,
 "nbformat_minor": 5
}
